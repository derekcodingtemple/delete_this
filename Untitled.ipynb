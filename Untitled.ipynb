{
 "cells": [
  {
   "cell_type": "code",
   "execution_count": 17,
   "id": "655fa131",
   "metadata": {},
   "outputs": [],
   "source": [
    "name = 'Lucas'"
   ]
  },
  {
   "cell_type": "code",
   "execution_count": null,
   "id": "88b939e1",
   "metadata": {},
   "outputs": [],
   "source": [
    "middle_name = 'Michael'"
   ]
  },
  {
   "cell_type": "code",
   "execution_count": null,
   "id": "e1387faf",
   "metadata": {},
   "outputs": [],
   "source": []
  },
  {
   "cell_type": "code",
   "execution_count": 1,
   "id": "4d75eb18",
   "metadata": {},
   "outputs": [
    {
     "data": {
      "text/plain": [
       "'My name is 1. My name is 2. My name is 5. My name is 11. My name is 1.My name is 12. My name is 1.'"
      ]
     },
     "execution_count": 1,
     "metadata": {},
     "output_type": "execute_result"
    }
   ],
   "source": [
    "'My heart is 1. My heart is 2. My heart is 5. My heart is 11. My heart is 1.My heart is 12. My heart is 1.'"
   ]
  },
  {
   "cell_type": "code",
   "execution_count": null,
   "id": "32558dfc",
   "metadata": {},
   "outputs": [],
   "source": [
    "\n",
    "\n",
    "\n",
    "\n",
    "\n",
    "\n",
    "\n",
    "\n",
    "\n",
    "\n",
    "\n",
    "\n",
    "\n",
    "\n",
    "\n",
    "\n",
    "\n",
    "\n",
    "\n",
    "\n",
    "\n",
    "\n",
    "\n"
   ]
  }
 ],
 "metadata": {
  "kernelspec": {
   "display_name": "Python 3",
   "language": "python",
   "name": "python3"
  },
  "language_info": {
   "codemirror_mode": {
    "name": "ipython",
    "version": 3
   },
   "file_extension": ".py",
   "mimetype": "text/x-python",
   "name": "python",
   "nbconvert_exporter": "python",
   "pygments_lexer": "ipython3",
   "version": "3.9.5"
  }
 },
 "nbformat": 4,
 "nbformat_minor": 5
}
